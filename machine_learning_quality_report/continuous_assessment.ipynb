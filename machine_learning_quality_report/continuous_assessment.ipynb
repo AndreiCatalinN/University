{
 "cells": [
  {
   "cell_type": "code",
   "execution_count": 39,
   "metadata": {
    "collapsed": true,
    "pycharm": {
     "is_executing": false
    }
   },
   "outputs": [
    {
     "data": {
      "text/plain": "    id  age          workclass  fnlwgt   education  education-num  \\\n0  tr1   39          State-gov   77516   Bachelors             13   \n1  tr2   50   Self-emp-not-inc   83311   Bachelors             13   \n2  tr3   38            Private  215646     HS-grad              9   \n3  tr4   53            Private  234721        11th              7   \n4  tr5   28            Private  338409   Bachelors             13   \n\n        marital-status          occupation    relationship    race      sex  \\\n0        Never-married        Adm-clerical   Not-in-family   White     Male   \n1   Married-civ-spouse     Exec-managerial         Husband   White     Male   \n2             Divorced   Handlers-cleaners   Not-in-family   White     Male   \n3   Married-civ-spouse   Handlers-cleaners         Husband   Black     Male   \n4   Married-civ-spouse      Prof-specialty            Wife   Black   Female   \n\n   capital-gain  capital-loss  hours-per-week  native-country  target  \n0          2174             0              40   United-States   <=50K  \n1             0             0              13   United-States   <=50K  \n2             0             0              40   United-States   <=50K  \n3             0             0              40   United-States   <=50K  \n4             0             0              40            Cuba   <=50K  ",
      "text/html": "<div>\n<style scoped>\n    .dataframe tbody tr th:only-of-type {\n        vertical-align: middle;\n    }\n\n    .dataframe tbody tr th {\n        vertical-align: top;\n    }\n\n    .dataframe thead th {\n        text-align: right;\n    }\n</style>\n<table border=\"1\" class=\"dataframe\">\n  <thead>\n    <tr style=\"text-align: right;\">\n      <th></th>\n      <th>id</th>\n      <th>age</th>\n      <th>workclass</th>\n      <th>fnlwgt</th>\n      <th>education</th>\n      <th>education-num</th>\n      <th>marital-status</th>\n      <th>occupation</th>\n      <th>relationship</th>\n      <th>race</th>\n      <th>sex</th>\n      <th>capital-gain</th>\n      <th>capital-loss</th>\n      <th>hours-per-week</th>\n      <th>native-country</th>\n      <th>target</th>\n    </tr>\n  </thead>\n  <tbody>\n    <tr>\n      <td>0</td>\n      <td>tr1</td>\n      <td>39</td>\n      <td>State-gov</td>\n      <td>77516</td>\n      <td>Bachelors</td>\n      <td>13</td>\n      <td>Never-married</td>\n      <td>Adm-clerical</td>\n      <td>Not-in-family</td>\n      <td>White</td>\n      <td>Male</td>\n      <td>2174</td>\n      <td>0</td>\n      <td>40</td>\n      <td>United-States</td>\n      <td>&lt;=50K</td>\n    </tr>\n    <tr>\n      <td>1</td>\n      <td>tr2</td>\n      <td>50</td>\n      <td>Self-emp-not-inc</td>\n      <td>83311</td>\n      <td>Bachelors</td>\n      <td>13</td>\n      <td>Married-civ-spouse</td>\n      <td>Exec-managerial</td>\n      <td>Husband</td>\n      <td>White</td>\n      <td>Male</td>\n      <td>0</td>\n      <td>0</td>\n      <td>13</td>\n      <td>United-States</td>\n      <td>&lt;=50K</td>\n    </tr>\n    <tr>\n      <td>2</td>\n      <td>tr3</td>\n      <td>38</td>\n      <td>Private</td>\n      <td>215646</td>\n      <td>HS-grad</td>\n      <td>9</td>\n      <td>Divorced</td>\n      <td>Handlers-cleaners</td>\n      <td>Not-in-family</td>\n      <td>White</td>\n      <td>Male</td>\n      <td>0</td>\n      <td>0</td>\n      <td>40</td>\n      <td>United-States</td>\n      <td>&lt;=50K</td>\n    </tr>\n    <tr>\n      <td>3</td>\n      <td>tr4</td>\n      <td>53</td>\n      <td>Private</td>\n      <td>234721</td>\n      <td>11th</td>\n      <td>7</td>\n      <td>Married-civ-spouse</td>\n      <td>Handlers-cleaners</td>\n      <td>Husband</td>\n      <td>Black</td>\n      <td>Male</td>\n      <td>0</td>\n      <td>0</td>\n      <td>40</td>\n      <td>United-States</td>\n      <td>&lt;=50K</td>\n    </tr>\n    <tr>\n      <td>4</td>\n      <td>tr5</td>\n      <td>28</td>\n      <td>Private</td>\n      <td>338409</td>\n      <td>Bachelors</td>\n      <td>13</td>\n      <td>Married-civ-spouse</td>\n      <td>Prof-specialty</td>\n      <td>Wife</td>\n      <td>Black</td>\n      <td>Female</td>\n      <td>0</td>\n      <td>0</td>\n      <td>40</td>\n      <td>Cuba</td>\n      <td>&lt;=50K</td>\n    </tr>\n  </tbody>\n</table>\n</div>"
     },
     "metadata": {},
     "output_type": "execute_result",
     "execution_count": 39
    }
   ],
   "source": [
    "# Andrei Negura\n",
    "# C16733435\n",
    "from collections import Counter\n",
    "import pandas as pd\n",
    "feature_names = './data/feature_names.txt'\n",
    "dataset = './data/dataset.csv'\n",
    "with open(feature_names) as f:\n",
    "    names = f.read().split('\\n')\n",
    "df = pd.read_csv(dataset, names=names)\n",
    "df.head()"
   ]
  },
  {
   "cell_type": "code",
   "execution_count": 40,
   "outputs": [],
   "source": [
    "cat_feature_header = [\n",
    "    'feature name', 'count', '% missing', 'cardinality', 'mode',\n",
    "    'mode frequency', 'mode %', '2nd mode', '2nd mode frequency', \n",
    "    '2nd mode %'\n",
    "]\n",
    "\n",
    "def get_data_cat(column_name):\n",
    "    all_records = df[column_name].count()\n",
    "    row = [column_name, \n",
    "           all_records, # count\n",
    "           df[column_name].isna().sum()/all_records, # missing %\n",
    "           df[column_name].nunique(), # cardinality\n",
    "           df[column_name].mode()[0], # mode\n",
    "           df[column_name].value_counts()[0], # mode freq \n",
    "           df[column_name].value_counts()[0]/all_records, # mode %\n",
    "           Counter(df[column_name]).most_common()[1][0],# 2nd mode \n",
    "           df[column_name].value_counts()[1],# 2nd mode freq\n",
    "           df[column_name].value_counts()[1]/all_records # 2nd mode %\n",
    "    ]\n",
    "    return row\n",
    "\n",
    "data_cat = [\n",
    "    get_data_cat('workclass'),\n",
    "    get_data_cat('education'),\n",
    "    get_data_cat('marital-status'),\n",
    "    get_data_cat('occupation'),\n",
    "    get_data_cat('relationship'),\n",
    "    get_data_cat('race'),\n",
    "    get_data_cat('sex'),\n",
    "    get_data_cat('native-country'),\n",
    "]"
   ],
   "metadata": {
    "collapsed": false,
    "pycharm": {
     "name": "#%%\n",
     "is_executing": false
    }
   }
  },
  {
   "cell_type": "code",
   "execution_count": 41,
   "outputs": [
    {
     "data": {
      "text/plain": "40    14470\n50     2680\n45     1721\n60     1392\n35     1238\nName: hours-per-week, dtype: int64"
     },
     "metadata": {},
     "output_type": "execute_result",
     "execution_count": 41
    }
   ],
   "source": [
    "# continuous features\n",
    "# df['education-num'].value_counts()\n",
    "# df['capital-gain'].value_counts()\n",
    "# df['capital-loss'].value_counts()\n",
    "df['hours-per-week'].value_counts().head()"
   ],
   "metadata": {
    "collapsed": false,
    "pycharm": {
     "name": "#%%\n",
     "is_executing": false
    }
   }
  },
  {
   "cell_type": "code",
   "execution_count": 42,
   "outputs": [
    {
     "data": {
      "text/plain": " Private             21576\n Self-emp-not-inc     2406\n Local-gov            1986\n ?                    1735\n State-gov            1238\n Self-emp-inc         1067\n Federal-gov           911\n Without-pay            14\n Never-worked            7\nName: workclass, dtype: int64"
     },
     "metadata": {},
     "output_type": "execute_result",
     "execution_count": 42
    }
   ],
   "source": [
    "# categorical featureas\n",
    "df['workclass'].value_counts()\n",
    "# df['education'].value_counts()\n",
    "# df['marital-status'].value_counts()\n",
    "# df['occupation'].value_counts()\n",
    "# df['relationship'].value_counts()\n",
    "# df['race'].value_counts()\n",
    "# df['native-country'].value_counts()\n",
    "# df['sex'].value_counts()"
   ],
   "metadata": {
    "collapsed": false,
    "pycharm": {
     "name": "#%%\n",
     "is_executing": false
    }
   }
  },
  {
   "cell_type": "code",
   "execution_count": 43,
   "outputs": [],
   "source": [
    "cont_feature_header = [\n",
    "    'feature name', 'count', '% missing', 'cardinality',\n",
    "    'min', 'quantile 25%',\n",
    "    'mean', 'median', 'quantile 75%',\n",
    "    'max', 'standard deviation'\n",
    "]\n",
    "\n",
    "def get_data_cont(column_name):\n",
    "    all_records = df[column_name].count()\n",
    "    row = [column_name,\n",
    "           all_records, # count\n",
    "           df[column_name].isna().sum()/all_records, # missing %\n",
    "           df[column_name].nunique(), # cardinality\n",
    "           df[column_name].min(), #minimum value\n",
    "           df[column_name].quantile(q=0.25), # 1st qrt\n",
    "           df[column_name].mean(), \n",
    "           df[column_name].median(), \n",
    "           df[column_name].quantile(q=0.75), \n",
    "           df[column_name].max(), \n",
    "           df[column_name].std()]\n",
    "    return row\n",
    "\n",
    "data_cont = [\n",
    "    get_data_cont('age'),\n",
    "    get_data_cont('fnlwgt'),\n",
    "    get_data_cont('education-num'),\n",
    "    get_data_cont('capital-gain'),\n",
    "    get_data_cont('capital-loss'),\n",
    "    get_data_cont('hours-per-week')\n",
    "]"
   ],
   "metadata": {
    "collapsed": false,
    "pycharm": {
     "name": "#%%\n",
     "is_executing": false
    }
   }
  },
  {
   "cell_type": "code",
   "execution_count": 44,
   "outputs": [],
   "source": [
    "#make data frames\n",
    "insights_cont = pd.DataFrame(data_cont, columns = cont_feature_header)\n",
    "insights_cat = pd.DataFrame(data_cat, columns = cat_feature_header) \n",
    "#put them into csv files\n",
    "insights_cont.to_csv('./data/C16733435CONT.csv',header=True)\n",
    "insights_cat.to_csv('./data/C16733435CAT.csv',header=True)"
   ],
   "metadata": {
    "collapsed": false,
    "pycharm": {
     "name": "#%%\n",
     "is_executing": false
    }
   }
  },
  {
   "cell_type": "code",
   "execution_count": 63,
   "outputs": [
    {
     "data": {
      "text/plain": "(30.4, 40.2]     16881\n(40.2, 50.0]      5623\n(20.6, 30.4]      2204\n(10.8, 20.6]      2090\n(59.8, 69.6]      1691\n(50.0, 59.8]      1006\n(0.901, 10.8]      700\n(69.6, 79.4]       424\n(79.4, 89.2]       186\n(89.2, 99.0]       135\nName: hours-per-week, dtype: int64"
     },
     "metadata": {},
     "output_type": "execute_result",
     "execution_count": 63
    }
   ],
   "source": [
    "df.loc[df['age'].isin(range(17,18))]\n",
    "df['fnlwgt'].value_counts(bins=10)\n",
    "df.loc[df['fnlwgt'].isin(range(12285,0000))]\n",
    "df['hours-per-week'].value_counts(bins=10)"
   ],
   "metadata": {
    "collapsed": false,
    "pycharm": {
     "name": "#%%\n",
     "is_executing": false
    }
   }
  }
 ],
 "metadata": {
  "kernelspec": {
   "display_name": "Python 3",
   "language": "python",
   "name": "python3"
  },
  "language_info": {
   "codemirror_mode": {
    "name": "ipython",
    "version": 2
   },
   "file_extension": ".py",
   "mimetype": "text/x-python",
   "name": "python",
   "nbconvert_exporter": "python",
   "pygments_lexer": "ipython2",
   "version": "2.7.6"
  },
  "pycharm": {
   "stem_cell": {
    "cell_type": "raw",
    "source": [],
    "metadata": {
     "collapsed": false
    }
   }
  }
 },
 "nbformat": 4,
 "nbformat_minor": 0
}